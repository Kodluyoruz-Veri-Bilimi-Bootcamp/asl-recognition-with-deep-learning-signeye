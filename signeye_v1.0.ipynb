{
 "cells": [
  {
   "cell_type": "code",
   "execution_count": 10,
   "metadata": {},
   "outputs": [
    {
     "name": "stderr",
     "output_type": "stream",
     "text": [
      "Using TensorFlow backend.\n"
     ]
    }
   ],
   "source": [
    "from handtracking import detect_single_threaded\n",
    "from keras.models import load_model"
   ]
  },
  {
   "cell_type": "code",
   "execution_count": 13,
   "metadata": {},
   "outputs": [
    {
     "name": "stderr",
     "output_type": "stream",
     "text": [
      "usage: ipykernel_launcher.py [-h] [-sth SCORE_THRESH] [-fps FPS]\n",
      "                             [-src VIDEO_SOURCE] [-wd WIDTH] [-ht HEIGHT]\n",
      "                             [-ds DISPLAY] [-num-w NUM_WORKERS]\n",
      "                             [-q-size QUEUE_SIZE]\n",
      "ipykernel_launcher.py: error: argument -fps/--fps: invalid int value: '/home/kodban-nbsas/.local/share/jupyter/runtime/kernel-505d8554-792f-440f-b04d-1ee714a5b64a.json'\n"
     ]
    },
    {
     "ename": "SystemExit",
     "evalue": "2",
     "output_type": "error",
     "traceback": [
      "An exception has occurred, use %tb to see the full traceback.\n",
      "\u001b[0;31mSystemExit\u001b[0m\u001b[0;31m:\u001b[0m 2\n"
     ]
    },
    {
     "name": "stderr",
     "output_type": "stream",
     "text": [
      "/home/kodban-nbsas/anaconda3/envs/bootcampITU/lib/python3.6/site-packages/IPython/core/interactiveshell.py:3334: UserWarning: To exit: use 'exit', 'quit', or Ctrl-D.\n",
      "  warn(\"To exit: use 'exit', 'quit', or Ctrl-D.\", stacklevel=1)\n"
     ]
    }
   ],
   "source": [
    "gen = detect_single_threaded.detectNcrop()\n",
    "\n",
    "model = load_model('signeye_M1.h5')\n",
    "\n",
    "for i in gen:\n",
    "    model.predict(i)"
   ]
  }
 ],
 "metadata": {
  "kernelspec": {
   "display_name": "Python 3",
   "language": "python",
   "name": "python3"
  },
  "language_info": {
   "codemirror_mode": {
    "name": "ipython",
    "version": 3
   },
   "file_extension": ".py",
   "mimetype": "text/x-python",
   "name": "python",
   "nbconvert_exporter": "python",
   "pygments_lexer": "ipython3",
   "version": "3.6.9"
  }
 },
 "nbformat": 4,
 "nbformat_minor": 2
}
